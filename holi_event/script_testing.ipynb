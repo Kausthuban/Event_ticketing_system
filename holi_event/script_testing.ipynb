{
 "cells": [
  {
   "cell_type": "code",
   "execution_count": 2,
   "metadata": {},
   "outputs": [],
   "source": [
    "# Imports \n",
    "\n",
    "import pywhatkit as kit\n",
    "import time\n",
    "import qrcode\n",
    "from PIL import Image\n",
    "import firebase_admin\n",
    "from firebase_admin import credentials, firestore\n",
    "import hashlib\n",
    "from datetime import datetime\n"
   ]
  },
  {
   "cell_type": "code",
   "execution_count": 3,
   "metadata": {},
   "outputs": [
    {
     "data": {
      "text/plain": [
       "<firebase_admin.App at 0x1d4cff64310>"
      ]
     },
     "execution_count": 3,
     "metadata": {},
     "output_type": "execute_result"
    }
   ],
   "source": [
    "# Initializations \n",
    "cred = credentials.Certificate('credentials2.json')\n",
    "firebase_admin.initialize_app(cred)\n"
   ]
  },
  {
   "cell_type": "code",
   "execution_count": 19,
   "metadata": {},
   "outputs": [],
   "source": [
    "db = firestore.client()\n",
    "Registrations = db.collection('Registrations')\n",
    "Tickets = db.collection('QR_Codes')\n",
    "# IDCounter = db.get('counterDocument')\n",
    "logo_link = 'logo2.png'\n",
    "logo = Image.open(logo_link)\n",
    "reg_write_template = {'Name': '', 'Date': datetime.now(), 'amount': 300, 'totalCount': 8, 'number': '9944524545', 'ticketID': '', 'generatedTicket': False, 'sentTicket': False, 'imageID': ''}\n",
    "idcount_doc = db.collection('Logs_Variables').document('docCounter')\n"
   ]
  },
  {
   "cell_type": "code",
   "execution_count": 20,
   "metadata": {},
   "outputs": [],
   "source": []
  },
  {
   "cell_type": "code",
   "execution_count": 28,
   "metadata": {},
   "outputs": [
    {
     "name": "stdout",
     "output_type": "stream",
     "text": [
      "{'number': '9944524545', 'amount': 300, 'imageID': '', 'generatedTicket': False, 'sentTicket': False, 'totalCount': 8, 'Date': DatetimeWithNanoseconds(2024, 2, 1, 0, 59, 28, 759460, tzinfo=datetime.timezone.utc), 'ticketID': '', 'Name': 'Radha'}\n",
      "{'number': '9944524545', 'amount': 300, 'imageID': '', 'generatedTicket': False, 'sentTicket': True, 'totalCount': 8, 'Date': DatetimeWithNanoseconds(2024, 2, 1, 0, 59, 28, 759460, tzinfo=datetime.timezone.utc), 'ticketID': '', 'Name': 'Radha'}\n"
     ]
    }
   ],
   "source": [
    "test_doc = db.collection('Registrations').document('holi_bulk_1').get().to_dict()\n",
    "print(test_doc)\n",
    "test_doc['sentTicket'] = True\n",
    "# test_dict = test_doc.to_dict()\n"
   ]
  },
  {
   "cell_type": "code",
   "execution_count": 30,
   "metadata": {},
   "outputs": [
    {
     "data": {
      "text/plain": [
       "update_time {\n",
       "  seconds: 1706795762\n",
       "  nanos: 712480000\n",
       "}\n",
       "transform_results {\n",
       "  integer_value: 2\n",
       "}"
      ]
     },
     "execution_count": 30,
     "metadata": {},
     "output_type": "execute_result"
    }
   ],
   "source": [
    "counter_doc = db.collection('Logs_Variables').document('docCounter')\n",
    "counter_doc.update({'userCount': firestore.Increment(1)})"
   ]
  },
  {
   "cell_type": "code",
   "execution_count": 31,
   "metadata": {},
   "outputs": [],
   "source": [
    "tkt_template = {'totalCount' : 0, 'visitedCount' : 0, 'used':False, 'timestamp' : ''}"
   ]
  },
  {
   "cell_type": "code",
   "execution_count": 36,
   "metadata": {},
   "outputs": [
    {
     "name": "stdout",
     "output_type": "stream",
     "text": [
      "{'totalCount': 8, 'visitedCount': 0, 'used': False, 'timestamp': ''}\n"
     ]
    }
   ],
   "source": [
    "tkt_template['totalCount'] = db.collection('Registrations').document('holi_bulk_1').get().get('totalCount')\n",
    "print(tkt_template)"
   ]
  },
  {
   "cell_type": "code",
   "execution_count": 16,
   "metadata": {},
   "outputs": [
    {
     "name": "stdout",
     "output_type": "stream",
     "text": [
      "User ID: 6\n"
     ]
    }
   ],
   "source": [
    "# if idcount.exists:\n",
    "            # Access the userID field from the document data\n",
    "idcount = idcount_doc.get().get('userCount')\n",
    "# user_id = idcount.get('userCount')\n",
    "\n",
    "# Print the userID\n",
    "print(\"User ID:\", idcount)"
   ]
  },
  {
   "cell_type": "code",
   "execution_count": null,
   "metadata": {},
   "outputs": [],
   "source": []
  },
  {
   "cell_type": "code",
   "execution_count": 38,
   "metadata": {},
   "outputs": [
    {
     "name": "stdout",
     "output_type": "stream",
     "text": [
      "this works too\n"
     ]
    }
   ],
   "source": [
    "reg_doc = db.collection('Registrations').document('holi_bulk_1')\n",
    "# Check the codition\n",
    "if reg_doc.get().get('generatedTicket'):\n",
    "    print('works')\n",
    "else:\n",
    "    print('this works too')"
   ]
  },
  {
   "cell_type": "code",
   "execution_count": null,
   "metadata": {},
   "outputs": [],
   "source": []
  },
  {
   "cell_type": "code",
   "execution_count": 17,
   "metadata": {},
   "outputs": [],
   "source": [
    "def hashing(msg):\n",
    "    hashval = hashlib.sha1(msg.encode(\"UTF-8\")).hexdigest()\n",
    "    return hashval[:10]\n",
    "def generate_ticket(data,template,ID):\n",
    "    base = 'holi_event_'\n",
    "    raw = base+data[1]\n",
    "    ID = hashing(base+data[1])\n",
    "    QRcode = qrcode.QRCode(error_correction=qrcode.constants.ERROR_CORRECT_H)\n",
    "    QRcode.add_data(data)\n",
    "    QRcode.make()\n",
    "\n",
    "    QRcolor = 'Black'\n",
    "    QRimg = QRcode.make_image(\n",
    "        fill_color=QRcolor, back_color=\"white\").convert('RGBA')\n",
    "\n",
    "    pos = ((QRimg.size[0] - logo.size[0]) // 2,\n",
    "        (QRimg.size[1] - logo.size[1]) // 2)\n",
    "\n",
    "    # Paste the logo onto the QR code with transparency\n",
    "    QRimg.paste(logo, pos, logo)\n",
    "\n",
    "    # Save the QR code generated\n",
    "    QRimg.save(f'Codes/{ID}.png')\n",
    "        \n",
    "    return ID\n",
    "def send_message(ticketID,number,imageID):\n",
    "    message = \"Dear customer, thank you for choosing event managers for the holi event on 25th\"\n",
    "    kit.sendwhats_image(\"+91\"+number, \"Codes/imageID.png\",message, 10, tab_close=True)\n",
    "    time.sleep(4)\n",
    "def write_columns(collection,columns,ID,data):\n",
    "    to_set = {}\n",
    "    doc_ref = collection.document(ID)\n",
    "    for field in columns:\n",
    "        if field in data:\n",
    "            to_set[field] = data[field]\n",
    "    doc_ref.set(to_set)\n",
    "def get_all_data(): #Input the document to be read/processed\n",
    "    collection_list = []\n",
    "    fields = ['Name','number','generatedTicket','ticketID','totalCount','sentTicket']\n",
    "    for doc in Registrations:\n",
    "        if doc.exists:\n",
    "            temp = []\n",
    "            for field in fields:\n",
    "                temp.append(doc.get(field))\n",
    "            collection_list.append(temp)\n",
    "    \n",
    "    return collection_list\n",
    "def ticket_not_generated(data):\n",
    "    res = []\n",
    "    for row in data:\n",
    "        if row[2] == False:\n",
    "            res.append(row)\n",
    "        \n",
    "    return res\n"
   ]
  },
  {
   "cell_type": "code",
   "execution_count": 22,
   "metadata": {},
   "outputs": [
    {
     "ename": "TypeError",
     "evalue": "'CollectionReference' object is not iterable",
     "output_type": "error",
     "traceback": [
      "\u001b[1;31m---------------------------------------------------------------------------\u001b[0m",
      "\u001b[1;31mTypeError\u001b[0m                                 Traceback (most recent call last)",
      "Cell \u001b[1;32mIn[22], line 4\u001b[0m\n\u001b[0;32m      2\u001b[0m reg_docs \u001b[38;5;241m=\u001b[39m Registrations\u001b[38;5;241m.\u001b[39mget()\n\u001b[0;32m      3\u001b[0m ticket_docs \u001b[38;5;241m=\u001b[39m Tickets\u001b[38;5;241m.\u001b[39mget()\n\u001b[1;32m----> 4\u001b[0m \u001b[38;5;28mall\u001b[39m \u001b[38;5;241m=\u001b[39m \u001b[43mget_all_data\u001b[49m\u001b[43m(\u001b[49m\u001b[43m)\u001b[49m\n\u001b[0;32m      5\u001b[0m no_tickets \u001b[38;5;241m=\u001b[39m ticket_not_generated(\u001b[38;5;28mall\u001b[39m)\n\u001b[0;32m      6\u001b[0m \u001b[38;5;28mprint\u001b[39m(no_tickets)\n",
      "Cell \u001b[1;32mIn[21], line 4\u001b[0m, in \u001b[0;36mget_all_data\u001b[1;34m()\u001b[0m\n\u001b[0;32m      2\u001b[0m collection_list \u001b[38;5;241m=\u001b[39m []\n\u001b[0;32m      3\u001b[0m fields \u001b[38;5;241m=\u001b[39m [\u001b[38;5;124m'\u001b[39m\u001b[38;5;124mName\u001b[39m\u001b[38;5;124m'\u001b[39m,\u001b[38;5;124m'\u001b[39m\u001b[38;5;124mnumber\u001b[39m\u001b[38;5;124m'\u001b[39m,\u001b[38;5;124m'\u001b[39m\u001b[38;5;124mgeneratedTicket\u001b[39m\u001b[38;5;124m'\u001b[39m,\u001b[38;5;124m'\u001b[39m\u001b[38;5;124mticketID\u001b[39m\u001b[38;5;124m'\u001b[39m,\u001b[38;5;124m'\u001b[39m\u001b[38;5;124mtotalCount\u001b[39m\u001b[38;5;124m'\u001b[39m,\u001b[38;5;124m'\u001b[39m\u001b[38;5;124msentTicket\u001b[39m\u001b[38;5;124m'\u001b[39m]\n\u001b[1;32m----> 4\u001b[0m \u001b[43m\u001b[49m\u001b[38;5;28;43;01mfor\u001b[39;49;00m\u001b[43m \u001b[49m\u001b[43mdoc\u001b[49m\u001b[43m \u001b[49m\u001b[38;5;129;43;01min\u001b[39;49;00m\u001b[43m \u001b[49m\u001b[43mRegistrations\u001b[49m\u001b[43m:\u001b[49m\n\u001b[0;32m      5\u001b[0m \u001b[43m    \u001b[49m\u001b[38;5;28;43;01mif\u001b[39;49;00m\u001b[43m \u001b[49m\u001b[43mdoc\u001b[49m\u001b[38;5;241;43m.\u001b[39;49m\u001b[43mexists\u001b[49m\u001b[43m:\u001b[49m\n\u001b[0;32m      6\u001b[0m \u001b[43m        \u001b[49m\u001b[43mtemp\u001b[49m\u001b[43m \u001b[49m\u001b[38;5;241;43m=\u001b[39;49m\u001b[43m \u001b[49m\u001b[43m[\u001b[49m\u001b[43m]\u001b[49m\n",
      "\u001b[1;31mTypeError\u001b[0m: 'CollectionReference' object is not iterable"
     ]
    }
   ],
   "source": [
    "for i in range(3):\n",
    "    reg_docs = Registrations.get()\n",
    "    ticket_docs = Tickets.get()\n",
    "    # all = get_all_data()\n",
    "    no_tickets = ticket_not_generated(all)\n",
    "    print(no_tickets)\n",
    "    for i in no_tickets:\n",
    "        pass"
   ]
  },
  {
   "cell_type": "code",
   "execution_count": null,
   "metadata": {},
   "outputs": [],
   "source": []
  }
 ],
 "metadata": {
  "kernelspec": {
   "display_name": "Python 3",
   "language": "python",
   "name": "python3"
  },
  "language_info": {
   "codemirror_mode": {
    "name": "ipython",
    "version": 3
   },
   "file_extension": ".py",
   "mimetype": "text/x-python",
   "name": "python",
   "nbconvert_exporter": "python",
   "pygments_lexer": "ipython3",
   "version": "3.11.3"
  }
 },
 "nbformat": 4,
 "nbformat_minor": 2
}
