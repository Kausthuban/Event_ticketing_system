{
 "cells": [
  {
   "cell_type": "code",
   "execution_count": 2,
   "metadata": {},
   "outputs": [],
   "source": [
    "\n",
    "import pywhatkit as kit\n",
    "import time\n",
    "import qrcode\n",
    "from PIL import Image\n",
    "import firebase_admin\n",
    "from firebase_admin import credentials, firestore\n",
    "import hashlib\n",
    "from datetime import datetime"
   ]
  },
  {
   "cell_type": "code",
   "execution_count": 3,
   "metadata": {},
   "outputs": [],
   "source": [
    "cred = credentials.Certificate('credentials2.json')\n",
    "firebase_admin.initialize_app(cred)\n",
    "db = firestore.client()"
   ]
  },
  {
   "cell_type": "code",
   "execution_count": 48,
   "metadata": {},
   "outputs": [],
   "source": [
    "Registrations = db.collection('Registrations')\n",
    "Tickets = db.collection('QR_Codes')\n",
    "# IDCounter = db.get('counterDocument')\n",
    "logo_link = 'logo2.png'\n",
    "logo = Image.open(logo_link)\n",
    "reg_write_template = {'Name': '', 'Date': datetime.now(), 'amount': 300, 'totalCount': 8, 'number': '9944524545', 'ticketID': '', 'generatedTicket': False, 'sentTicket': False, 'imageID': ''}\n",
    "idcount_doc = db.collection('Registrations').document('counterDocument')\n",
    "# idcount = idcount_doc.get().get('userCount')\n",
    "counter_doc = db.collection('Logs_Variables').document('docCounter')"
   ]
  },
  {
   "cell_type": "code",
   "execution_count": 49,
   "metadata": {},
   "outputs": [],
   "source": [
    "reg_template = {'Name': '', 'Date': datetime.now(), 'amount': 300, 'totalCount': 0, 'number': '', 'ticketID': '', 'generatedTicket': False, 'sentTicket': False, 'imageID': ''}\n",
    "tkt_template = {'totalCount' : 0, 'visitedCount' : 0, 'used':False, 'timestamp' : ''}\n",
    "\n",
    "def get_count():\n",
    "    idcount_doc = db.collection('Logs_Variables').document('docCounter')\n",
    "    idcount = idcount_doc.get().get('userCount')\n",
    "    return idcount\n",
    "\n",
    "def inc_count():\n",
    "    counter_doc.update({'userCount': firestore.Increment(1)})\n",
    "\n",
    "def hash_gen(data):\n",
    "        hashval = hashlib.sha1(data.encode(\"UTF-8\")).hexdigest()\n",
    "        return hashval\n",
    "\n",
    "def gen_qr(data,imgID,logo=logo):\n",
    "    basewidth = 100\n",
    "\n",
    "    # Adjust image size\n",
    "    wpercent = (basewidth / float(logo.size[0]))\n",
    "    hsize = int((float(logo.size[1]) * float(wpercent)))\n",
    "    logo = logo.resize((basewidth, hsize), Image.LANCZOS)\n",
    "\n",
    "    QRcode = qrcode.QRCode(error_correction=qrcode.constants.ERROR_CORRECT_H)\n",
    "    QRcode.add_data(data)\n",
    "    QRcode.make()\n",
    "\n",
    "    QRcolor = 'Black'\n",
    "    QRimg = QRcode.make_image(\n",
    "        fill_color=QRcolor, back_color=\"white\").convert('RGBA')\n",
    "\n",
    "    pos = ((QRimg.size[0] - logo.size[0]) // 2,\n",
    "        (QRimg.size[1] - logo.size[1]) // 2)\n",
    "\n",
    "    # Paste the logo onto the QR code with transparency\n",
    "    QRimg.paste(logo, pos, logo)\n",
    "\n",
    "    # Save the QR code generated\n",
    "    QRimg.save(f'Codes/{imgID}.png')\n",
    "\n",
    "\n",
    "def add_tkt_entry(ID,totalCount,tkt_template=tkt_template):\n",
    "     doc_ref = db.collection(\"QR_Codes\").document(ID)\n",
    "     tkt_template['totalCount'] = totalCount\n",
    "     tkt_template['timestamp'] = firestore.SERVER_TIMESTAMP\n",
    "     doc_ref.set(tkt_template)"
   ]
  },
  {
   "cell_type": "code",
   "execution_count": 50,
   "metadata": {},
   "outputs": [],
   "source": [
    "def send_message(ticketID,number,imageID):\n",
    "    message = f\"Dear customer, thank you for choosing event managers for the holi event on 25th \\n Your ticket ID is given below \\n {ticketID}\"\n",
    "    kit.sendwhats_image(\"+91\"+number, f\"Codes/{imageID}\",message, 10, tab_close=True)\n",
    "    time.sleep(4)"
   ]
  },
  {
   "cell_type": "code",
   "execution_count": 51,
   "metadata": {},
   "outputs": [],
   "source": [
    "\n",
    "# Working Ticket Generator\n",
    "def generate_ticket(docID,tkt_template=tkt_template,base_txt='holi_event_'):\n",
    "    # Get the Document\n",
    "    reg_doc = db.collection('Registrations').document(docID)\n",
    "    # Check the codition\n",
    "    if reg_doc.get().get('generatedTicket'):\n",
    "        return\n",
    "    # Get counter value\n",
    "    count = get_count()\n",
    "    counter = str(count).zfill(3)\n",
    "    # Generate ID and QR\n",
    "    ID = hash_gen(base_txt+counter)\n",
    "    gen_qr(ID,counter)\n",
    "    # Get the existing data and modify the required fields\n",
    "    new_reg_doc = db.collection('Registrations').document(docID).get().to_dict()\n",
    "    new_reg_doc['ticketID'] = ID\n",
    "    new_reg_doc['generatedTicket'] = True\n",
    "    new_reg_doc['imageID'] = counter+'.png'\n",
    "    # Update the new values\n",
    "    reg_doc.set(new_reg_doc)\n",
    "    # Increment the counter\n",
    "    inc_count()\n",
    "    # Create a new entry in the Tickets_page\n",
    "    add_tkt_entry(ID,reg_doc.get().get('totalCount'))\n"
   ]
  },
  {
   "cell_type": "code",
   "execution_count": 52,
   "metadata": {},
   "outputs": [],
   "source": [
    "# Sending Message in whatsapp\n",
    "\n",
    "def send_message_to_id(docID):\n",
    "    reg_doc = db.collection('Registrations').document(docID)\n",
    "    if reg_doc.get().get('sentTicket'):\n",
    "        return\n",
    "    imageID = reg_doc.get().get('imageID')\n",
    "    ticketID = reg_doc.get().get('ticketID')\n",
    "    number = reg_doc.get().get('number')\n",
    "    send_message(ticketID,number,imageID)\n",
    "    new_reg_doc = db.collection('Registrations').document(docID).get().to_dict()\n",
    "    new_reg_doc['sentTicket'] = True\n",
    "    # Update the new values\n",
    "    reg_doc.set(new_reg_doc)\n",
    "\n",
    "    \n",
    "    \n",
    "\n"
   ]
  },
  {
   "cell_type": "code",
   "execution_count": 60,
   "metadata": {},
   "outputs": [],
   "source": [
    "def get_ids(collection_name='Registrations'):\n",
    "    collection_ref = db.collection(collection_name)\n",
    "    # Get all documents in the collection\n",
    "    docs = collection_ref.get()\n",
    "    # Create an empty list to store document IDs\n",
    "    document_ids = []\n",
    "    # Extract document IDs from each document\n",
    "    for doc in docs:\n",
    "        document_ids.append(doc.id)\n",
    "    return document_ids"
   ]
  },
  {
   "cell_type": "code",
   "execution_count": 62,
   "metadata": {},
   "outputs": [
    {
     "name": "stdout",
     "output_type": "stream",
     "text": [
      "3pTCl3Vex1OdDW4Qfdef\n",
      "holi_bulk_1\n"
     ]
    }
   ],
   "source": [
    "for id in get_ids():\n",
    "    print(id)\n",
    "    generate_ticket(id)\n",
    "    send_message_to_id(id)\n"
   ]
  }
 ],
 "metadata": {
  "kernelspec": {
   "display_name": "Python 3",
   "language": "python",
   "name": "python3"
  },
  "language_info": {
   "codemirror_mode": {
    "name": "ipython",
    "version": 3
   },
   "file_extension": ".py",
   "mimetype": "text/x-python",
   "name": "python",
   "nbconvert_exporter": "python",
   "pygments_lexer": "ipython3",
   "version": "3.11.3"
  }
 },
 "nbformat": 4,
 "nbformat_minor": 2
}
